{
  "nbformat": 4,
  "nbformat_minor": 0,
  "metadata": {
    "colab": {
      "provenance": [],
      "toc_visible": true,
      "include_colab_link": true
    },
    "kernelspec": {
      "name": "python3",
      "display_name": "Python 3"
    },
    "language_info": {
      "name": "python"
    }
  },
  "cells": [
    {
      "cell_type": "markdown",
      "metadata": {
        "id": "view-in-github",
        "colab_type": "text"
      },
      "source": [
        "<a href=\"https://colab.research.google.com/github/joshualewin6/Colab-Notebook/blob/main/Unit2/Unit2NotesSF.ipynb\" target=\"_parent\"><img src=\"https://colab.research.google.com/assets/colab-badge.svg\" alt=\"Open In Colab\"/></a>"
      ]
    },
    {
      "cell_type": "markdown",
      "source": [
        "The following are the installations and libraries neccesary to run the code in these notes. Some of the libraries in this course are so new that they aren't preinstalled on the Google servers that collabratory runs on. We'll need to reninstall them each time we get the \"runtime disconnect message\""
      ],
      "metadata": {
        "id": "LAQNBHLpQgwf"
      }
    },
    {
      "cell_type": "code",
      "source": [
        "!pip install preliz"
      ],
      "metadata": {
        "id": "3xvGOrVlmKf9",
        "outputId": "17503298-b5df-4ad4-ddec-ecad005679e9",
        "colab": {
          "base_uri": "https://localhost:8080/"
        }
      },
      "execution_count": 1,
      "outputs": [
        {
          "output_type": "stream",
          "name": "stdout",
          "text": [
            "Collecting preliz\n",
            "  Downloading preliz-0.9.0-py3-none-any.whl.metadata (5.7 kB)\n",
            "Requirement already satisfied: arviz in /usr/local/lib/python3.10/dist-packages (from preliz) (0.18.0)\n",
            "Requirement already satisfied: matplotlib>=3.5 in /usr/local/lib/python3.10/dist-packages (from preliz) (3.7.1)\n",
            "Requirement already satisfied: numba>=0.59 in /usr/local/lib/python3.10/dist-packages (from preliz) (0.60.0)\n",
            "Requirement already satisfied: numpy>=1.22 in /usr/local/lib/python3.10/dist-packages (from preliz) (1.26.4)\n",
            "Collecting scipy<1.13,>=1.9.1 (from preliz)\n",
            "  Downloading scipy-1.12.0-cp310-cp310-manylinux_2_17_x86_64.manylinux2014_x86_64.whl.metadata (60 kB)\n",
            "\u001b[2K     \u001b[90m━━━━━━━━━━━━━━━━━━━━━━━━━━━━━━━━━━━━━━━━\u001b[0m \u001b[32m60.4/60.4 kB\u001b[0m \u001b[31m1.5 MB/s\u001b[0m eta \u001b[36m0:00:00\u001b[0m\n",
            "\u001b[?25hRequirement already satisfied: contourpy>=1.0.1 in /usr/local/lib/python3.10/dist-packages (from matplotlib>=3.5->preliz) (1.2.1)\n",
            "Requirement already satisfied: cycler>=0.10 in /usr/local/lib/python3.10/dist-packages (from matplotlib>=3.5->preliz) (0.12.1)\n",
            "Requirement already satisfied: fonttools>=4.22.0 in /usr/local/lib/python3.10/dist-packages (from matplotlib>=3.5->preliz) (4.53.1)\n",
            "Requirement already satisfied: kiwisolver>=1.0.1 in /usr/local/lib/python3.10/dist-packages (from matplotlib>=3.5->preliz) (1.4.5)\n",
            "Requirement already satisfied: packaging>=20.0 in /usr/local/lib/python3.10/dist-packages (from matplotlib>=3.5->preliz) (24.1)\n",
            "Requirement already satisfied: pillow>=6.2.0 in /usr/local/lib/python3.10/dist-packages (from matplotlib>=3.5->preliz) (9.4.0)\n",
            "Requirement already satisfied: pyparsing>=2.3.1 in /usr/local/lib/python3.10/dist-packages (from matplotlib>=3.5->preliz) (3.1.4)\n",
            "Requirement already satisfied: python-dateutil>=2.7 in /usr/local/lib/python3.10/dist-packages (from matplotlib>=3.5->preliz) (2.8.2)\n",
            "Requirement already satisfied: llvmlite<0.44,>=0.43.0dev0 in /usr/local/lib/python3.10/dist-packages (from numba>=0.59->preliz) (0.43.0)\n",
            "Requirement already satisfied: setuptools>=60.0.0 in /usr/local/lib/python3.10/dist-packages (from arviz->preliz) (71.0.4)\n",
            "Requirement already satisfied: pandas>=1.5.0 in /usr/local/lib/python3.10/dist-packages (from arviz->preliz) (2.1.4)\n",
            "Requirement already satisfied: dm-tree>=0.1.8 in /usr/local/lib/python3.10/dist-packages (from arviz->preliz) (0.1.8)\n",
            "Requirement already satisfied: xarray>=2022.6.0 in /usr/local/lib/python3.10/dist-packages (from arviz->preliz) (2024.6.0)\n",
            "Requirement already satisfied: h5netcdf>=1.0.2 in /usr/local/lib/python3.10/dist-packages (from arviz->preliz) (1.3.0)\n",
            "Requirement already satisfied: typing-extensions>=4.1.0 in /usr/local/lib/python3.10/dist-packages (from arviz->preliz) (4.12.2)\n",
            "Requirement already satisfied: xarray-einstats>=0.3 in /usr/local/lib/python3.10/dist-packages (from arviz->preliz) (0.7.0)\n",
            "Requirement already satisfied: h5py in /usr/local/lib/python3.10/dist-packages (from h5netcdf>=1.0.2->arviz->preliz) (3.11.0)\n",
            "Requirement already satisfied: pytz>=2020.1 in /usr/local/lib/python3.10/dist-packages (from pandas>=1.5.0->arviz->preliz) (2024.1)\n",
            "Requirement already satisfied: tzdata>=2022.1 in /usr/local/lib/python3.10/dist-packages (from pandas>=1.5.0->arviz->preliz) (2024.1)\n",
            "Requirement already satisfied: six>=1.5 in /usr/local/lib/python3.10/dist-packages (from python-dateutil>=2.7->matplotlib>=3.5->preliz) (1.16.0)\n",
            "Downloading preliz-0.9.0-py3-none-any.whl (505 kB)\n",
            "\u001b[2K   \u001b[90m━━━━━━━━━━━━━━━━━━━━━━━━━━━━━━━━━━━━━━━━\u001b[0m \u001b[32m505.3/505.3 kB\u001b[0m \u001b[31m8.4 MB/s\u001b[0m eta \u001b[36m0:00:00\u001b[0m\n",
            "\u001b[?25hDownloading scipy-1.12.0-cp310-cp310-manylinux_2_17_x86_64.manylinux2014_x86_64.whl (38.4 MB)\n",
            "\u001b[2K   \u001b[90m━━━━━━━━━━━━━━━━━━━━━━━━━━━━━━━━━━━━━━━━\u001b[0m \u001b[32m38.4/38.4 MB\u001b[0m \u001b[31m14.6 MB/s\u001b[0m eta \u001b[36m0:00:00\u001b[0m\n",
            "\u001b[?25hInstalling collected packages: scipy, preliz\n",
            "  Attempting uninstall: scipy\n",
            "    Found existing installation: scipy 1.13.1\n",
            "    Uninstalling scipy-1.13.1:\n",
            "      Successfully uninstalled scipy-1.13.1\n",
            "\u001b[31mERROR: pip's dependency resolver does not currently take into account all the packages that are installed. This behaviour is the source of the following dependency conflicts.\n",
            "osqp 0.6.7.post0 requires scipy!=1.12.0,>=0.13.2, but you have scipy 1.12.0 which is incompatible.\u001b[0m\u001b[31m\n",
            "\u001b[0mSuccessfully installed preliz-0.9.0 scipy-1.12.0\n"
          ]
        }
      ]
    },
    {
      "cell_type": "code",
      "source": [
        "#We'll also need to re-import this library after we reinstall it\n",
        "\n",
        "import preliz as pz"
      ],
      "metadata": {
        "id": "SnxvjBKAdP2u"
      },
      "execution_count": 2,
      "outputs": []
    },
    {
      "cell_type": "code",
      "source": [
        "#These libraries don't need to be reinstalled each time, but they will need to be\n",
        "#re-imported each time\n",
        "\n",
        "import numpy as np\n",
        "import arviz as az\n",
        "import pymc as pm"
      ],
      "metadata": {
        "id": "u0x66ER4Jv3v"
      },
      "execution_count": 4,
      "outputs": []
    },
    {
      "cell_type": "markdown",
      "source": [
        "#**Unit 2: Probability with a Pinch of Python**\n",
        "\n",
        "We will spend this entire unit trying to answer a single question: What will Victor Wembanyama's true Free Throw percentage (FT%) be in the NBA?\n",
        "\n",
        "This will acomplish three things:\n",
        "\n",
        "1. Give you a foundation upon which to grow your inuition about probability and predictive models.\n",
        "2. Show you that any question about the real world can be made arbitrarily complicated.\n",
        "3. Help emphasize that there are always many ways to answer a question.\n",
        "\n",
        "Here's a word salad of things you'll learn in this unit: mean, mode, median, the three axioms of probability, Bayes' Rule, prior, likelihood, posterior,  probability denisty function, uniform distribution, beta distribution, and binomial distribution.\n",
        "\n",
        "We will also introduce the most basic version of a pymc model, a code skeleton from from which we will summon many predictive monsters in the coming units.\n",
        "\n",
        "Let's dive in."
      ],
      "metadata": {
        "id": "1vRRvsSnMenD"
      }
    },
    {
      "cell_type": "markdown",
      "source": [
        "###**Free Throws**\n",
        "\n",
        "Victor Wembanyama is a profesional basketball player for the San Antonio Spurs NBA team. In the summer of 2023, Wembanyama had yet to play a game in the NBA, although he had played in other professional leagues in France.\n",
        "\n",
        "There was a lot of hype around how good a player Wembanyama would be in the NBA, and many questions, one of which was: How good would Victor Wembanyama be at shooting the basketball?\n",
        "\n",
        "One metric to use is Free Throw Percentage (FT%). In basketball, players are awared an unobscured attempt to toss a basketball into a hoop (the main goal of the game) under certain condtions. All free throws are shot from the same spot, and players either make of miss the shot. Made free throws award the player's team 1 point, and missed free throws award 0 points."
      ],
      "metadata": {
        "id": "5CKhGrlr0u-N"
      }
    },
    {
      "cell_type": "markdown",
      "source": [
        "###**Assumptions: Modeling Free Throws Prior Information**\n",
        "Let's try to figure out what Victor Wembanyama's free throw percentage will be in the NBA."
      ],
      "metadata": {
        "id": "WtqZdU6IBn_j"
      }
    },
    {
      "cell_type": "markdown",
      "source": [
        "First, let's acknowledge that we **must** make an assumptions in order to make a guess. We'd *have* to make an assumption, even if only to assume that every possible free throw percentage is equally likely.\n",
        "\n",
        "**Task1**: So, what is Wembanyama's most likely free throw percentage, if all possible free throw percentages are equally likely and we otherwise know nothing about Wembanyama or free throws?"
      ],
      "metadata": {
        "id": "VogX7DqwCzaU"
      }
    },
    {
      "cell_type": "markdown",
      "source": [
        "**Answer1**:\n",
        "\n",
        "Since there's two possible outcomes and we know nothing else, we'll assume they have an equal chance of occurring, i.e., we'll assume Wemby has a 50% chance of making a free throw."
      ],
      "metadata": {
        "id": "4ZbdDfk9Etvf"
      }
    },
    {
      "cell_type": "markdown",
      "source": [
        "Below is a graph showing every possible free throw percentage on the x-axis. The y-axis goes from $0$ to $1$, and the blue line happens to be at $y=1$. The blue line is horizontal to represent that each x value, or proportion, is equally likely.\n",
        "\n",
        "Don't worry about understanding this graph or the code that generated it right now. It's here for when you reference these notes later."
      ],
      "metadata": {
        "id": "KM37P8ZNGnsl"
      }
    },
    {
      "cell_type": "code",
      "source": [
        "pz.Uniform(0,1).plot_pdf() # plots the uniform distribution"
      ],
      "metadata": {
        "id": "gaCvjBeVGJEB",
        "outputId": "b8f745a8-7657-4ad5-fea7-2ec2e4f5a20e",
        "colab": {
          "base_uri": "https://localhost:8080/",
          "height": 447
        }
      },
      "execution_count": 5,
      "outputs": [
        {
          "output_type": "execute_result",
          "data": {
            "text/plain": [
              "<Axes: >"
            ]
          },
          "metadata": {},
          "execution_count": 5
        },
        {
          "output_type": "display_data",
          "data": {
            "text/plain": [
              "<Figure size 640x480 with 1 Axes>"
            ],
            "image/png": "[encoded data removed]"
          },
          "metadata": {}
        }
      ]
    },
    {
      "cell_type": "markdown",
      "source": [
        "In order to predict free throw percentage, we had to make an asumption.\n",
        "\n",
        "It turns out that assumptions are required for more than predicting free throw percentage--**assumptions are required to predict/guess anything uncertain**.\n",
        "All of reality, and everything in it, is at least functionally uncertain (...probably...). Therefore, we need to make assumptions in order to make any logical statements about the state of the world we live in."
      ],
      "metadata": {
        "id": "GOmHOq4j9dNY"
      }
    },
    {
      "cell_type": "markdown",
      "source": [
        "Instead of worrying about the world and all reality, let's go back to predicting free throw percentage.\n",
        "\n",
        "Since we had to make an assumption to get an answer, let's see if we can do better than \"all possible answers are equally likely.\" What do we know about Wembanyma's free throw shooting?\n"
      ],
      "metadata": {
        "id": "oFHP-FVw_Opg"
      }
    },
    {
      "cell_type": "markdown",
      "source": [
        "Wembanyama played professionally in the Euroleague, and he made 24 out 32 free throws or $\\frac{24}{32}=0.75$ free throws. You may be tempted to say the expected proportion of made free throws is $0.75$--and it is--but only reporting that is throwing away information.\n",
        "For example, $\\frac{24}{32}=\\frac{3}{4}$, but Wembanyama didn't shoot just 4 free throws, he shot 32. We need a way to show that seeing the outcome of more free throws increases how confident we are in our estimate."
      ],
      "metadata": {
        "id": "5DpXCGoHguau"
      }
    },
    {
      "cell_type": "markdown",
      "source": [
        "**Task2**:\n",
        "\n",
        "In order to do that, we're gonna need to do some math. Not calculations (those are for your computer), rather, we'll redefine a free throw into its relevant, logical parts.\n",
        "\n",
        "What about a free throw are we recording? In other words, what about a free throw do we care about?"
      ],
      "metadata": {
        "id": "cP7riXtpcVa_"
      }
    },
    {
      "cell_type": "markdown",
      "source": [
        "**Answer2**:\n",
        "\n",
        "All we care about is how many were attempted and out of those how many were made, as free throws are very binary, and there's no defenders or other factors, just basket and ball. So we just care about attempts, makes, and FT%."
      ],
      "metadata": {
        "id": "ArMROyo1p8Fe"
      }
    },
    {
      "cell_type": "markdown",
      "source": [
        "Before we go further, we know to define 'uncertainty' the way we defined free throws: by breaking uncertainty into its relevant, logical parts.\n",
        "\n",
        "Also, instead of the word 'uncertainty', we'll use the word 'probability'."
      ],
      "metadata": {
        "id": "dnTn1MtIJa1R"
      }
    },
    {
      "cell_type": "markdown",
      "source": [
        "**Task3**:\n",
        "\n",
        "Take a moment to think about what \"probablity\" means.\n",
        "\n",
        "Ask at least one other person what they think it means.\n",
        "\n",
        "Write your definition, and at least one other person's definition. Pick which one you like best, or make a new definition that combines the two."
      ],
      "metadata": {
        "id": "TWF78TPBj66z"
      }
    },
    {
      "cell_type": "markdown",
      "source": [
        "**Answer**:\n",
        "\n",
        "Probability is predicting how likely something is to occur.\n",
        "\n",
        "Victoria said: Probability is the percent chance of an action occurring based off of data already given."
      ],
      "metadata": {
        "id": "KWhyVFankQcO"
      }
    },
    {
      "cell_type": "markdown",
      "source": [
        "Now that we know what a probablity is, we can use those 24 out of 32 free throws we've \"seen\" Victor Wembanyama shoot.\n",
        "\n",
        "Each of those 32 free throw attempts had some probability of going through the hoop and generating a point. We'll call that probability $\\theta$ (pronouced \"theta\") since we don't know what it is, and because greek letters make me feel like I'm a real mathematician.\n",
        "\n",
        "Since Wembanyama made 24 made free throws, we have 24 $θ$s, and we'll call each of the 8( = 32 - 24) misses $1-θ$.\n",
        "\n",
        "As a reminder, those 32 free throw attempts are helping us form an assumption about the probability of Wembanyama's free throw percentage being any particular number. Before, we said it was euqally likely to be any possible free throw percentage.\n",
        "\n",
        "One more notational thing: let $p()$ read \"the probability of ___\". Thus, $p(\\theta)$ reads \"the probability of the true probability of Victor Wembanyama making a free throw\".\n",
        "\n",
        "Returing to the \"equally likely\" assumption, we basically said $p(θ) ∼ Uniform(0,1)$ or $p(θ) \\sim U(0,1)$. This reads \"the true probability of Victor Wembanyama making a free throw is uniformly distributed within the interval 0 to 1\".\n"
      ],
      "metadata": {
        "id": "k-1iSEhvkSeH"
      }
    },
    {
      "cell_type": "markdown",
      "source": [
        "**Task4**:\n",
        "\n",
        "Guess how we could write the distribution of the true probability of Wembanyama making a free throw, but now with the prior knowledge that he made 24 out of 32 free throws in Euroleage play."
      ],
      "metadata": {
        "id": "c8dYN2YYsaBT"
      }
    },
    {
      "cell_type": "markdown",
      "source": [
        "**Answer4**:\n",
        "\n",
        "my guess was: $p(θ)=θ^{24}(1-θ)^8\\frac{32!}{24!8!}$\n",
        "\n",
        "the answer was: $p(θ)=θ^{23}(1-θ)^7\\frac{31!}{23!7!}$\n",
        "\n"
      ],
      "metadata": {
        "id": "VLEMkVy70Wg2"
      }
    },
    {
      "cell_type": "code",
      "source": [
        "#plotting the beta distribution with shape parameter 24 and scale parameter 8\n",
        "pz.Beta(alpha=24,beta=8).plot_pdf()"
      ],
      "metadata": {
        "id": "nUP2gYoqSC6M",
        "outputId": "ba5711df-ff62-4eef-ad80-3ac3e1fea13e",
        "colab": {
          "base_uri": "https://localhost:8080/",
          "height": 447
        }
      },
      "execution_count": 8,
      "outputs": [
        {
          "output_type": "execute_result",
          "data": {
            "text/plain": [
              "<Axes: >"
            ]
          },
          "metadata": {},
          "execution_count": 8
        },
        {
          "output_type": "display_data",
          "data": {
            "text/plain": [
              "<Figure size 640x480 with 1 Axes>"
            ],
            "image/png": "[encoded data removed]"
          },
          "metadata": {}
        }
      ]
    },
    {
      "cell_type": "markdown",
      "source": [
        "**Task5**:\n",
        "\n",
        "Which prior distribution is better, the $Beta(α=24, β=8)$ distribution, or the $U(0,1)$ distribution.\n",
        "\n",
        "Why?"
      ],
      "metadata": {
        "id": "zo8ORkse74Zq"
      }
    },
    {
      "cell_type": "markdown",
      "source": [
        "**Answer5**:\n",
        "\n",
        "The beta distribution better incorporates the data we already have."
      ],
      "metadata": {
        "id": "nNNmtP_x83uW"
      }
    },
    {
      "cell_type": "markdown",
      "source": [
        "###**Predictions with only prior knowledge**\n",
        "\n",
        "Recall that we wanted to predict Victor Wembanyama's free throw percentage. While there are technically infinte guesses we could make--any percentage under the blue curve above is valid--we now have a precise way of saying what the expected/average free throw percentage is, and the the most likely/probable free throw percentage. Also try to find the \"middle\" percentage, AKA the median.\n",
        "\n"
      ],
      "metadata": {
        "id": "O4eB8zDPh7rK"
      }
    },
    {
      "cell_type": "markdown",
      "source": [
        "**Task6**:\n",
        "\n",
        "Find Wembanyama's expected FT%, middle FT%, and most likely FT% based only on the free throws he shoot in Euroleage"
      ],
      "metadata": {
        "id": "E2bTiKE_OFMd"
      }
    },
    {
      "cell_type": "code",
      "source": [
        "#ANSWER6\n",
        "\n"
      ],
      "metadata": {
        "id": "P8UqVnmTZHoE"
      },
      "execution_count": null,
      "outputs": []
    },
    {
      "cell_type": "markdown",
      "source": [
        "**Answer6**:\n",
        "\n",
        "mean is\n",
        "$\\int_0^1{θp(θ)dθ}/(1-0)=0.75$\n",
        "\n",
        "median is $x$ where\n",
        "$\\int_0^x{p(θ)dθ}=0.5$\n",
        "so $x=0.7553$\n",
        "\n",
        "mode is $x$ where\n",
        "$p(x)=max(p(θ))|0<θ<1$\n",
        "so $x=0.7667$"
      ],
      "metadata": {
        "id": "4YL0Wq1Rf5PR"
      }
    },
    {
      "cell_type": "markdown",
      "source": [
        "###**Acknowledging our Observations: Modeling Free Throws from the NBA**\n",
        "\n",
        "In this section, we will learn a rule for how to change our predictions as we gain more information, or data.\n",
        "\n",
        "For now, that new information will be \"seeing\" Victor Wembanyama shoot free throws in an NBA game."
      ],
      "metadata": {
        "id": "iYtAujjufTWQ"
      }
    },
    {
      "cell_type": "markdown",
      "source": [
        "Right now, we have a prior, $p(θ) = Beta(α=24, β=8)=\\frac{Γ(α+β)}{Γ(α)Γ(β)}θ^{α-1}(1-θ)^{β-1}=\\frac{31!}{23!7!}θ^{23}(1-θ)^{7}$\n",
        "\n",
        "This represents that we don't know Wembanyama's true free throw percentage, but we do know he made 24 out of 32 free throws in Euroleague basketball. Specifically, $θ$ represents his true chance of making a free throw.\n",
        "\n"
      ],
      "metadata": {
        "id": "x9NXhsdmydFA"
      }
    },
    {
      "cell_type": "markdown",
      "source": [
        "Put that aside for now. Consider this information, or these data: we observe Wembanyama make 7 out 9 free throws in his first 2 NBA games. Let's consider the chance, or likelihood, of this happening.\n",
        "\n",
        "Made free throws are represented by $θ$, and misses by $1-θ$. Because free throws are independent, we can again represent a bunch of makes and misses through multiplication."
      ],
      "metadata": {
        "id": "KktmhWuR24ge"
      }
    },
    {
      "cell_type": "markdown",
      "source": [
        "**Task7**:\n",
        "\n",
        "Write down an expression for the likelihood of seeing these data (7 made free throws out of 9) given we knowthe true free throw rate $θ$."
      ],
      "metadata": {
        "id": "OnIxRnfAPKaS"
      }
    },
    {
      "cell_type": "markdown",
      "source": [
        "**Answer7**:\n",
        "\n",
        "[*write your answer here*]"
      ],
      "metadata": {
        "id": "cncMHZEUybgR"
      }
    },
    {
      "cell_type": "markdown",
      "source": [
        "We've seen preliz's function for our prior in this scenario, $Beta(α,β)$. Preliz also has a nice function for the binomial distribution, shown below:"
      ],
      "metadata": {
        "id": "oiFNJqm9zOb0"
      }
    },
    {
      "cell_type": "code",
      "source": [
        "pz.Binomial(n = 9, p = 7/9 ).plot_pdf()"
      ],
      "metadata": {
        "id": "BemOLoPVzw6H",
        "colab": {
          "base_uri": "https://localhost:8080/",
          "height": 447
        },
        "outputId": "5ea9fdca-e02a-4e30-9555-2a7f7070a546"
      },
      "execution_count": null,
      "outputs": [
        {
          "output_type": "execute_result",
          "data": {
            "text/plain": [
              "<Axes: >"
            ]
          },
          "metadata": {},
          "execution_count": 11
        },
        {
          "output_type": "display_data",
          "data": {
            "text/plain": [
              "<Figure size 640x480 with 1 Axes>"
            ],
            "image/png": "[encoded data removed]"
          },
          "metadata": {}
        }
      ]
    },
    {
      "cell_type": "markdown",
      "source": [
        "###**Updating our Predictions/Beliefs**"
      ],
      "metadata": {
        "id": "DekloZWUwuwY"
      }
    },
    {
      "cell_type": "markdown",
      "source": [
        "Let's review what we've learned.:\n",
        "\n",
        "- We have a formula for our **prior** knowledge about Wembanayma's free throw shooting from his play in Euroleague, $p(θ) = Beta(α=24, β=8)=\\frac{31!}{23!7!}θ^{23}(1-θ)^{7}$. (This prior is our way to guess before we've seen any anything about the NBA.)\n",
        "- We have a formula for the **likelihood** that Wembanyama made 7 out of 9 free throws in his first two NBA games, $p(y|θ)=Binomial(n=9,k=7,θ)=\\frac{9!}{(9-7)!7!}θ^{7}(1-θ)^{2}$\n",
        "\n",
        "and also what we want:\n",
        "\n",
        "- A prediction of Wembanyama's true free throw percentage in the NBA, $θ$, given that we've seen him make 7 out of 9 free throws in the NBA,  $p(θ|y)$. This prediction is **post**, or after, seeing data and making assumptions.\n",
        "\n"
      ],
      "metadata": {
        "id": "RHlnf8T15wq5"
      }
    },
    {
      "cell_type": "markdown",
      "source": [
        "Thus far, when we have two probablities that happen in conjunction, we have multiplied them. That trend will continue here.\n",
        "\n",
        "**Task8**:\n",
        "\n",
        "Write a formula for knowing both the likelihood and the prior in this free throw example.\n"
      ],
      "metadata": {
        "id": "L0l1eISl4ZGy"
      }
    },
    {
      "cell_type": "markdown",
      "source": [
        "**Answer8**:\n",
        "\n",
        "[*write your answer here*]"
      ],
      "metadata": {
        "id": "IifjGkMiJzvy"
      }
    },
    {
      "cell_type": "markdown",
      "source": [
        "We now have our answer--or at least, a formula for getting one.\n",
        "\n",
        "The probability of Victor Wembanayma's true free throw percentage in the NBA given the free throws we've seen him shoot thus far is:\n",
        "\n",
        "$p(θ|y) ∝ p(y|θ)p(θ) = Beta(α_{new}=α+k,β_{new}=n-k+β)$\n",
        "\n",
        "The $∝$ reads \"proportional to\". Its a statement we use instead of an equal sign that allows us to drop the scracy fractions. Those \"scary fractions\" will get subsumed into a [normalizing constant](https://en.wikipedia.org/wiki/Normalizing_constant#:~:text=In%20probability%20theory%2C%20a%20normalizing%20constant%20is%20a%20constant%20by,or%20a%20probability%20mass%20function.). More on that later, but for now, all you need to know is this:\n",
        "\n",
        "The models we create need to know about $θ$--the thing we want to predict--and how $θ$ intereacts with the world. Our computer is capable of handling the rest."
      ],
      "metadata": {
        "id": "pIHLIqOT5OFn"
      }
    },
    {
      "cell_type": "markdown",
      "source": [
        "**Task9**:\n",
        "\n",
        "Now that we have a formula, let's use our computer to answer our question: \"What do we expect Victor Wembanyama's true free throw percentage to be?\"\n",
        "\n",
        "*Hint*: Is there code on elsewhere on this notebook for the Beta distribution?"
      ],
      "metadata": {
        "id": "WM_uGSSfDHYn"
      }
    },
    {
      "cell_type": "code",
      "source": [
        "#ANSWER9\n",
        "\n",
        "#[*write your answer here*]"
      ],
      "metadata": {
        "id": "PtK-eJfNEUbu"
      },
      "execution_count": null,
      "outputs": []
    },
    {
      "cell_type": "markdown",
      "source": [
        "While that constitutes our best guess, the 'real' answer is the whole distribution, shown below"
      ],
      "metadata": {
        "id": "-emd9jJKHJK_"
      }
    },
    {
      "cell_type": "code",
      "source": [
        "#this will only run based on code from the answer key, and is mainly here to\n",
        "#give you a hint at how to answer the pervious task\n",
        "analytic_FT.plot_pdf()"
      ],
      "metadata": {
        "id": "e5KLjk3KHWS1",
        "colab": {
          "base_uri": "https://localhost:8080/",
          "height": 447
        },
        "outputId": "04fe29ff-0921-411f-ebae-c7b15fae587c"
      },
      "execution_count": null,
      "outputs": [
        {
          "output_type": "execute_result",
          "data": {
            "text/plain": [
              "<Axes: >"
            ]
          },
          "metadata": {},
          "execution_count": 7
        },
        {
          "output_type": "display_data",
          "data": {
            "text/plain": [
              "<Figure size 640x480 with 1 Axes>"
            ],
            "image/png": "[encoded data removed]"
          },
          "metadata": {}
        }
      ]
    },
    {
      "cell_type": "markdown",
      "source": [
        "Let's linger on my last statement:\n",
        "\n",
        "\"the 'real' answer is the whole distribution\"\n",
        "\n",
        "**Task10**:\n",
        "Why is the whole distribution better than a single point estimate, a single guess?"
      ],
      "metadata": {
        "id": "P9dmv0GVmdCU"
      }
    },
    {
      "cell_type": "markdown",
      "source": [
        "**Answer10**:\n",
        "\n",
        "[*write your answer here*]"
      ],
      "metadata": {
        "id": "ekpQzswf3IpN"
      }
    },
    {
      "cell_type": "markdown",
      "source": [
        "Now that we have some inuition and skills on how to guess Wembanyama's FT%, a natural extension is to wonder if we can predict the results of his actual free throws."
      ],
      "metadata": {
        "id": "Z4My6KxN78oM"
      }
    },
    {
      "cell_type": "markdown",
      "source": [
        "###**Probabalistic Programming: Predicting Free Throws**\n",
        "\n",
        "This is where things get interesting.\n",
        "\n",
        "There is an analytic (formulaic and exact) solution to predicitng Wembanyams's future free throws, but we won't use it here for two reasons.\n",
        "- It involves calculating this integral: $ \\int_{}^{} p(\\tilde{y}|θ)p(θ|y) \\,dθ  $, where $\\tilde{y}$ is predicted data, or, in this case, predicted free throws.\n",
        "- The approximate, or sampling, method we'll use instead will work even in situations where that integral is intractable.\n",
        "\n",
        "\n",
        " To avoid ever having to calculate that integral, we will need to make use of a powerful technique known as Markov Chain Monte Carlo (MCMC). Eventually we will cover a version of MCMC in more depth, but even then, we will not cover precisely what's happening underneath the hood with pymc.\n",
        "\n",
        " pymc is the library of functions we'll use to build our model, and it will underpin every model we'll build going forward. Imagine its like a car. Cars have all sorts of features now a days, from power steering and automatic transmission, to blind spot warnings and lane assist. They can't quite drive themselves yet, but even if they could, there's nothing stopping us from manually driving one off a cliff, warning lights be damned.\n",
        "\n",
        " We will learn how to avoid using our model to drive ourselves off a cliff, and we will also learn how to make use of its fancy bells and whistles. Hopefully, this will be just as empowering as getting behind the wheel. Like a car has a complicated engine powering its capabilites, a pymc model has a complicated MCMC engine powering its capablities, and you don't really need to know how either work to take it for a drive.\n",
        "\n",
        "**But remember**: Things will break.\n",
        "This course will teach you how to drive, not how to be a mechanic. Often there are warning lights to help with this, but sometimes not--and there's no warning light in the world that can protect you from yourself."
      ],
      "metadata": {
        "id": "qKnHdVkAc9pV"
      }
    },
    {
      "cell_type": "markdown",
      "source": [
        "Let's return to coding.\n",
        "\n",
        "Before we make any predictions about future FTs, we need to redo our entire anaylsis with a library called pymc."
      ],
      "metadata": {
        "id": "FbPQYM29-m5n"
      }
    },
    {
      "cell_type": "code",
      "source": [
        "#loading pymc, the fancy library of functions that allows us to only focus on θ\n",
        "#we already did this at the beginning of the notebook, but I put it here again\n",
        "#to emphasize that this is the first time we're using it\n",
        "import pymc as pm"
      ],
      "metadata": {
        "id": "xJqOeBZiRiw_"
      },
      "execution_count": null,
      "outputs": []
    },
    {
      "cell_type": "code",
      "source": [
        "#the makes we've seen from the NBA\n",
        "FT_makes = np.repeat(1, 7)\n",
        "\n",
        "#the misses we've seen from the NBA\n",
        "FT_misses = np.repeat(0, 2)\n",
        "\n",
        "#combine makes and misses into one array\n",
        "FT_data = np.concatenate( [FT_makes,FT_misses] )\n",
        "\n",
        "#the last three lines can be combined into one line\n",
        "#FT_data = np.repeat([1,0], repeats = [7,2])\n",
        "#Which method of making FT_data is easier to understand?"
      ],
      "metadata": {
        "id": "zGQQbmnERlOq"
      },
      "execution_count": null,
      "outputs": []
    },
    {
      "cell_type": "code",
      "source": [
        "#Nearly every single model we will build in this class will have\n",
        "#the below outline as its foundation. Get hyped.\n",
        "\n",
        "with pm.Model() as wmby_FT_model:\n",
        "  #we define our prior with the makes and misses from Euroleague\n",
        "  #notice how we make alpha and beta floats by using '.'\n",
        "  θ = pm.Beta('θ' , alpha = 24. , beta = 8.)\n",
        "\n",
        "  #we define our likelihood, which is how we process the free throws\n",
        "  #we've seen Wemby make in the NBA\n",
        "  #Think of Bernoulli as a stand in for the binomial distribution\n",
        "  #This allow us to predict one free throw at a time later, among other things\n",
        "  y = pm.Bernoulli('y', p = θ, observed = FT_data)\n",
        "\n",
        "  #this part is new. We sample from our posterior because we don't actually\n",
        "  #have a formula for it.\n",
        "  idata_FT = pm.sample(1000)\n"
      ],
      "metadata": {
        "id": "ugzE_T6NdJWw"
      },
      "execution_count": null,
      "outputs": []
    },
    {
      "cell_type": "markdown",
      "source": [
        "The last line of code in the previous code block draws 1000 $θ$s for us to play with. What does that mean? Let's start with a picture:\n",
        "\n",
        "\n"
      ],
      "metadata": {
        "id": "nrVoeHRSAz23"
      }
    },
    {
      "cell_type": "code",
      "source": [
        "#arviz is a companion data visualization library for pymc. Again, we already\n",
        "#imported this library, but its repeated here for emphasis.\n",
        "import arviz as az"
      ],
      "metadata": {
        "id": "s6mjzyhYHlN0"
      },
      "execution_count": null,
      "outputs": []
    },
    {
      "cell_type": "code",
      "source": [
        "#vizualize the 1000 samples from the pymc model of the posterior\n",
        "az.plot_posterior(idata_FT)"
      ],
      "metadata": {
        "id": "2Itci9u-H2aX"
      },
      "execution_count": null,
      "outputs": []
    },
    {
      "cell_type": "markdown",
      "source": [
        "Let's compare this to the analytic solution."
      ],
      "metadata": {
        "id": "PQPkA3VVTLrX"
      }
    },
    {
      "cell_type": "code",
      "source": [
        "#probability density function (pdf) of the analytic solution\n",
        "analytic_FT = pz.Beta(alpha = 31, beta = 9)\n",
        "analytic_FT.plot_pdf()"
      ],
      "metadata": {
        "id": "bLwyyW4LbW5q"
      },
      "execution_count": null,
      "outputs": []
    },
    {
      "cell_type": "markdown",
      "source": [
        "**Task11**:\n",
        "\n",
        "List similarities and differences between the pymc model's samples, and the analytic model's pdf. Discuss these with at least one other person"
      ],
      "metadata": {
        "id": "SV4M4hTl-ql2"
      }
    },
    {
      "cell_type": "markdown",
      "source": [
        "**Answer11**:\n",
        "\n",
        "[*write your answer here*]\n"
      ],
      "metadata": {
        "id": "doKqcBLya7CV"
      }
    },
    {
      "cell_type": "markdown",
      "source": [
        "To see why this is the case, let's draw 1000 sample FT%s from the analytic model, just like we did from the pymc model."
      ],
      "metadata": {
        "id": "2r8ScQS6_t3t"
      }
    },
    {
      "cell_type": "code",
      "source": [
        "#vizualize 1000 samples from the analytic model.\n",
        "#Recall that analytic_FT = pz.Beta(alpha = alpha_old + 7,beta = beta_old + n - k )\n",
        "#This is beta dist. with the total number of makes and total misses as parameters\n",
        "az.plot_posterior( {'θ' : analytic_FT.rvs(1000)} )"
      ],
      "metadata": {
        "id": "lqZEHsqHTQWA"
      },
      "execution_count": null,
      "outputs": []
    },
    {
      "cell_type": "markdown",
      "source": [
        "**Task12**:\n",
        "\n",
        "List similarities and differences between the pymc model's samples, and the analytic model's samples. Discuss these with at least one other person"
      ],
      "metadata": {
        "id": "e3cKD9AA_H5h"
      }
    },
    {
      "cell_type": "markdown",
      "source": [
        "**Answer12**:\n",
        "\n",
        "[*write your answer here*]"
      ],
      "metadata": {
        "id": "6n8l25N6d7Sf"
      }
    },
    {
      "cell_type": "markdown",
      "source": [
        "Now that we have some idea what our fancy pymc model gives us, let's use our it to make predictions."
      ],
      "metadata": {
        "id": "nq2Ut86e_31a"
      }
    },
    {
      "cell_type": "code",
      "source": [
        "#The below function needs to know two things in order to make predictions:\n",
        "#-the samples from the posterior; these are stored in idata_FT\n",
        "#-the model that generated those samples, which we called wmby_FT_model\n",
        "# The last input tells the function to store those predictions in idata_FT\n",
        "\n",
        "pm.sample_posterior_predictive(idata_FT, model=wmby_FT_model, extend_inferencedata=True)"
      ],
      "metadata": {
        "id": "V6_TANgwAhDJ"
      },
      "execution_count": null,
      "outputs": []
    },
    {
      "cell_type": "markdown",
      "source": [
        "**Task13**:\n",
        "\n",
        "Does our model predict that Wembanyama will make his next free throw?\n",
        "\n",
        "Use the output above.\n",
        "\n",
        "Hints: We need the posterior predictive distribution. Also, what symbol/name did we give our data, our likelihood when we created wmby_FT_model?"
      ],
      "metadata": {
        "id": "4Ow112GfT0rP"
      }
    },
    {
      "cell_type": "code",
      "source": [
        "#ANSWER13\n",
        "\n",
        "[*write your answer here*]"
      ],
      "metadata": {
        "id": "jGkZzIrHGD06"
      },
      "execution_count": null,
      "outputs": []
    },
    {
      "cell_type": "markdown",
      "source": [
        "**Answer13**:\n",
        "\n",
        "[*or write your answer here*]"
      ],
      "metadata": {
        "id": "D1ILnjH5WMl5"
      }
    },
    {
      "cell_type": "markdown",
      "source": [
        "###**Predicting  Wemby FT in 2024/2025**\n",
        "\n",
        "Victor Wembanyama played more than 2 games in the NBA last year--and more relevantly to us, he took more than 9 free throws. In fact, he made 292 out of 367 free throws in the 2023/2024 NBA season.\n",
        "\n",
        "\n",
        "As of this writing, the 2024/2025 NBA season has yet to occur, but we can use those 367 FT attempts to generate"
      ],
      "metadata": {
        "id": "AJk4qWRiHh3m"
      }
    },
    {
      "cell_type": "code",
      "source": [
        "#Wemby's FTs in the 2023/2024 season, makes then misses\n",
        "FT_data_2324 = np.repeat([1,0], repeats = [292,75])"
      ],
      "metadata": {
        "id": "NXKw7wsCZ1U8"
      },
      "execution_count": null,
      "outputs": []
    },
    {
      "cell_type": "code",
      "source": [
        "with pm.Model() as wmby_FT_2324_model:\n",
        "  #same prior from before based on Euroleague data\n",
        "  θ = pm.Beta('θ' , alpha = 24. , beta = 8.)\n",
        "\n",
        "  #same likelihood, with our stand in for the binomial distribution\n",
        "  #but with the updated data\n",
        "  y = pm.Bernoulli('y', p = θ, observed = FT_data_2324)\n",
        "\n",
        "  #sample from the posterior, 2000 for a more prcise picture later\n",
        "  idata_FT_2324 = pm.sample(2000)"
      ],
      "metadata": {
        "id": "0Fr5to-kaCc3"
      },
      "execution_count": null,
      "outputs": []
    },
    {
      "cell_type": "code",
      "source": [
        "#vizualize the 2000 samples from the pymc model of the posterior\n",
        "az.plot_posterior(idata_FT_2324)"
      ],
      "metadata": {
        "id": "moaOq_GQa0Ch"
      },
      "execution_count": null,
      "outputs": []
    },
    {
      "cell_type": "code",
      "source": [
        "#Generate the actual predictions for Wemby's next 2000 FTs\n",
        "pm.sample_posterior_predictive(idata_FT_2324, model=wmby_FT_2324_model, extend_inferencedata=True)"
      ],
      "metadata": {
        "id": "Au8bNiq_biSm"
      },
      "execution_count": null,
      "outputs": []
    },
    {
      "cell_type": "code",
      "source": [
        "#stack the two MCMC chains together\n",
        "stacked_FT_2324 = az.extract(idata_FT_2324, group=\"posterior_predictive\")"
      ],
      "metadata": {
        "id": "xK8OKoRrelzJ"
      },
      "execution_count": null,
      "outputs": []
    },
    {
      "cell_type": "code",
      "source": [
        "#idata_FT_2324.posterior_predictive.y.to_series().values\n",
        "stacked_FT_2324.sel(sample=0).sel(draw=0).y.to_series().values"
      ],
      "metadata": {
        "id": "l8fZRrofbtJp"
      },
      "execution_count": null,
      "outputs": []
    },
    {
      "cell_type": "markdown",
      "source": [
        "And there you have it, predictions for Wembanyama's next 367 free throws. We'll check this at the end of the NBA regular season this year, and see how our model did."
      ],
      "metadata": {
        "id": "2SSZgVmMhvz2"
      }
    },
    {
      "cell_type": "markdown",
      "source": [
        "**Task14**:\n",
        "\n",
        "What could we do to improve our model?"
      ],
      "metadata": {
        "id": "Cz3HnJYliGk8"
      }
    },
    {
      "cell_type": "markdown",
      "source": [
        "**Answer14**:\n",
        "\n",
        "[*write your answer here*]"
      ],
      "metadata": {
        "id": "nsqmY5nujNCN"
      }
    },
    {
      "cell_type": "markdown",
      "source": [
        "###**Summary**\n",
        "\n",
        "In this unit, we answered the question: What will Victor Wembanyama's true Free Throw percentage (FT%) be in the NBA?\n",
        "\n",
        "We did this by considering prior knowledge we had about Wembanyama's FT shooting--we landed on his previous FT shooting in Euroleague, although we proposed other valid assumptions.\n",
        "\n",
        "In writing down our assumptions, we found it necceesary to think mathematically about probability and the physical act of FT shooting. This led us to probability density functions (pdf) as a good summary of our knowledge.\n",
        "\n",
        "We noticed that we could alter our assumption by processing new information through with a likelihood, another pdf.\n",
        "\n",
        "We then combined our new information with our prior knowledge by multipying our pdfs. This gave us a way to make a guess post new information, and we called this a posterior.\n",
        "\n",
        "And this posterior *is* our answer. It can give us different precise estimates, like the mean, median, and mode, and gives us a probability for all the values Wembanyama's truw FT% could be.\n",
        "\n",
        "But we didn't stop there! Our analytic solution happened to work out well mathematically, but we want a tool that works nearly everytime.\n",
        "\n",
        "So, we took out a pymc model for a test drive. We played a bit with its many metaphorical knobs and buttons to get predictions for Wembanyama's future FTs.\n",
        "\n",
        "Along the way, we learned that models like pymc guranttee that we will nearly always have access to samples of a posterior--so long as we use our tools correctly.\n",
        "\n",
        "To wrap up this unit, let's end with a final task:\n",
        "\n",
        "\n",
        "\n"
      ],
      "metadata": {
        "id": "v5fRiXSVjZ23"
      }
    },
    {
      "cell_type": "markdown",
      "source": [
        "**Task15**:\n",
        "\n",
        "What is Victor Wembanyama's true Free Throw percentage (FT%) in the NBA?"
      ],
      "metadata": {
        "id": "y-i-ZZLLdo3v"
      }
    },
    {
      "cell_type": "markdown",
      "source": [
        "**Answer15**:\n",
        "\n",
        "[*write your answer here*]"
      ],
      "metadata": {
        "id": "Ez1Cku5zcQOa"
      }
    }
  ]
}